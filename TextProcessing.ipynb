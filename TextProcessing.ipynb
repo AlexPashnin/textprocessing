{
 "cells": [
  {
   "cell_type": "markdown",
   "metadata": {},
   "source": [
    "### Зависимости"
   ]
  },
  {
   "cell_type": "code",
   "execution_count": 1,
   "metadata": {},
   "outputs": [],
   "source": [
    "import pymorphy2\n",
    "import string\n",
    "import nltk\n",
    "import numpy as np\n",
    "import matplotlib.pyplot as plt\n",
    "import itertools\n",
    "import string\n",
    "from stop_words import get_stop_words\n",
    "from corus import load_wiki\n",
    "from sklearn.feature_extraction.text import TfidfVectorizer\n",
    "from nltk.stem.snowball import SnowballStemmer\n",
    "from nltk.corpus import stopwords\n",
    "from nltk.tokenize import word_tokenize"
   ]
  },
  {
   "cell_type": "markdown",
   "metadata": {},
   "source": [
    "### Загружаем список стоп-слов и пунктуационных знаков"
   ]
  },
  {
   "cell_type": "code",
   "execution_count": 2,
   "metadata": {},
   "outputs": [
    {
     "name": "stderr",
     "output_type": "stream",
     "text": [
      "[nltk_data] Downloading package punkt to /home/adpashnin/nltk_data...\n",
      "[nltk_data]   Package punkt is already up-to-date!\n",
      "[nltk_data] Downloading package stopwords to\n",
      "[nltk_data]     /home/adpashnin/nltk_data...\n",
      "[nltk_data]   Package stopwords is already up-to-date!\n"
     ]
    },
    {
     "data": {
      "text/plain": [
       "True"
      ]
     },
     "execution_count": 2,
     "metadata": {},
     "output_type": "execute_result"
    }
   ],
   "source": [
    "nltk.download('punkt')\n",
    "nltk.download('stopwords')"
   ]
  },
  {
   "cell_type": "markdown",
   "metadata": {},
   "source": [
    "### Считываем дамп Вики, загруженный из https://github.com/natasha/corus"
   ]
  },
  {
   "cell_type": "code",
   "execution_count": 20,
   "metadata": {},
   "outputs": [],
   "source": [
    "print(\"Чтение текстов из Вики\")\n",
    "path = 'ruwiki-latest-pages-articles.xml.bz2'\n",
    "records = load_wiki(path)"
   ]
  },
  {
   "cell_type": "markdown",
   "metadata": {},
   "source": [
    "### Подготавливаем тексты из Вики для TF-IDF"
   ]
  },
  {
   "cell_type": "code",
   "execution_count": 4,
   "metadata": {},
   "outputs": [
    {
     "name": "stdout",
     "output_type": "stream",
     "text": [
      "Подготовка текстов из Вики\n",
      "Подготовка текстов из Вики завершена\n"
     ]
    }
   ],
   "source": [
    "print(\"Подготовка текстов из Вики\")\n",
    "wiki_texts = []\n",
    "for i in range(100):\n",
    "    wiki_texts.append(next(records).text)"
   ]
  },
  {
   "cell_type": "markdown",
   "metadata": {},
   "source": [
    "### Токенизируем текст, вычищая стоп-слова и производя лемматизацию"
   ]
  },
  {
   "cell_type": "code",
   "execution_count": 5,
   "metadata": {},
   "outputs": [],
   "source": [
    "def tokenize_ru(file_text):\n",
    "    # firstly let's apply nltk tokenization\n",
    "    tokens = word_tokenize(file_text)\n",
    "\n",
    "    # let's delete punctuation symbols\n",
    "    tokens = [i for i in tokens if (i not in string.punctuation)]\n",
    "\n",
    "    # deleting stop_words\n",
    "    stop_words = stopwords.words('russian') + get_stop_words('ru')\n",
    "    stop_words.extend(['в', '', '•', '—', '–', 'к', 'на', '№', '©', '►','3–4','1–2','2–3', '5–7', '15–20', '10-15', '20–25', '...'])\n",
    "    tokens = [i for i in tokens if ((i not in stop_words) and (len(i)>1) and (not i.isnumeric()))]\n",
    "    # cleaning words\n",
    "    tokens = [i.replace(\"«\", \"\").replace(\"»\", \"\") for i in tokens]\n",
    "    \n",
    "    morph = pymorphy2.MorphAnalyzer()\n",
    "    #stems=[]\n",
    "    #for item in tokens:\n",
    "    #   stems.append(SnowballStemmer(\"russian\").stem(item))\n",
    "    morphs = []\n",
    "    for item in tokens:\n",
    "        morphs.append(sorted(morph.parse(item), key=lambda p: p.score)[0].normal_form)\n",
    "    \n",
    "    return morphs"
   ]
  },
  {
   "cell_type": "markdown",
   "metadata": {},
   "source": [
    "## TF IDF"
   ]
  },
  {
   "cell_type": "code",
   "execution_count": 6,
   "metadata": {},
   "outputs": [],
   "source": [
    "def tf_idf(corpus, feature_count):\n",
    "    corpus = [content]+wiki_texts\n",
    "    stop_words = stopwords.words('russian') + get_stop_words('ru')\n",
    "    vectorizer = TfidfVectorizer(tokenizer = tokenize_ru)\n",
    "    X = vectorizer.fit_transform(corpus)\n",
    "    features = np.array(vectorizer.get_feature_names())\n",
    "    return features[(-X.toarray()[0]).argsort()[:feature_count]]"
   ]
  },
  {
   "cell_type": "markdown",
   "metadata": {},
   "source": [
    "`features` - содержит термины из документа"
   ]
  },
  {
   "cell_type": "code",
   "execution_count": 7,
   "metadata": {
    "scrolled": false
   },
   "outputs": [
    {
     "name": "stdout",
     "output_type": "stream",
     "text": [
      "Проведение TF-IDF анализа\n"
     ]
    }
   ],
   "source": [
    "features_count = 10\n",
    "# texts_count = 8\n",
    "features_per_text = {}\n",
    "# for i in range(texts_count):\n",
    "#     print(f'parsing {i}.txt file')\n",
    "print(\"Проведение TF-IDF анализа\")\n",
    "with open('doc.txt', 'r') as file:\n",
    "    content = file.read().replace('\\n', ' ')\n",
    "#     features_per_text[i] = tf_idf(content, features_count)\n",
    "    features = tf_idf(content, features_count)"
   ]
  },
  {
   "cell_type": "code",
   "execution_count": 8,
   "metadata": {
    "scrolled": true
   },
   "outputs": [
    {
     "name": "stdout",
     "output_type": "stream",
     "text": [
      "Результат TF-IDF. Первые 10 результатов\n",
      "['нарезать' 'масло' 'перец' 'зелень' 'вымыть' 'соль' 'петрушка' 'мл'\n",
      " 'выложить' 'ложка']\n"
     ]
    }
   ],
   "source": [
    "print(\"Результат TF-IDF. Первые 10 результатов\")\n",
    "print(features)"
   ]
  },
  {
   "cell_type": "markdown",
   "metadata": {},
   "source": [
    "## Подсчёт частоты вхождения"
   ]
  },
  {
   "cell_type": "markdown",
   "metadata": {},
   "source": [
    "#### Считываем весь документ"
   ]
  },
  {
   "cell_type": "code",
   "execution_count": 9,
   "metadata": {},
   "outputs": [
    {
     "name": "stdout",
     "output_type": "stream",
     "text": [
      "Частотный анализ\n"
     ]
    }
   ],
   "source": [
    "print(\"Частотный анализ\")\n",
    "with open('doc.txt', 'r') as file:\n",
    "         content = file.read().replace('\\n', ' ')"
   ]
  },
  {
   "cell_type": "markdown",
   "metadata": {},
   "source": [
    "#### Токенизируем текст"
   ]
  },
  {
   "cell_type": "code",
   "execution_count": 10,
   "metadata": {},
   "outputs": [
    {
     "name": "stdout",
     "output_type": "stream",
     "text": [
      "Токенизация текста\n"
     ]
    }
   ],
   "source": [
    "print(\"Токенизация текста\")\n",
    "tokens = tokenize_ru(content)"
   ]
  },
  {
   "cell_type": "markdown",
   "metadata": {},
   "source": [
    "#### Подсчитываем частоту"
   ]
  },
  {
   "cell_type": "code",
   "execution_count": 11,
   "metadata": {},
   "outputs": [
    {
     "name": "stdout",
     "output_type": "stream",
     "text": [
      "Подсчёт частот\n"
     ]
    }
   ],
   "source": [
    "print(\"Подсчёт частот\")\n",
    "freq_dist = nltk.FreqDist(w.lower() for w in tokens)"
   ]
  },
  {
   "cell_type": "markdown",
   "metadata": {},
   "source": [
    "#### Берём 1000 самых частых вхождений"
   ]
  },
  {
   "cell_type": "code",
   "execution_count": 12,
   "metadata": {
    "scrolled": true
   },
   "outputs": [
    {
     "name": "stdout",
     "output_type": "stream",
     "text": [
      "Топ 10 результатов\n",
      "[('масло', 5245), ('перец', 3662), ('соль', 3637), ('нарезать', 3599), ('зелень', 2904), ('добавить', 2566), ('приготовление', 2392), ('вымыть', 2362), ('л.', 2328), ('минуть', 2297)]\n"
     ]
    }
   ],
   "source": [
    "print(\"Топ 10 результатов\")\n",
    "print(freq_dist.most_common(10))"
   ]
  },
  {
   "cell_type": "markdown",
   "metadata": {},
   "source": [
    "### Гистрограмма"
   ]
  },
  {
   "cell_type": "code",
   "execution_count": 13,
   "metadata": {
    "scrolled": true
   },
   "outputs": [
    {
     "data": {
      "image/png": "[encoded data removed]",
      "text/plain": [
       "<Figure size 1080x720 with 1 Axes>"
      ]
     },
     "metadata": {
      "needs_background": "light"
     },
     "output_type": "display_data"
    }
   ],
   "source": [
    "freq = freq_dist.most_common(40)\n",
    "\n",
    "indices = np.arange(len(freq))\n",
    "plt.figure(figsize=(15,10))\n",
    "plt.bar(indices, list(map(lambda x: x[1], freq)))\n",
    "plt.xticks(indices, list(map(lambda x: x[0], freq)), rotation='vertical')\n",
    "plt.tight_layout()\n",
    "plt.show()"
   ]
  },
  {
   "cell_type": "markdown",
   "metadata": {},
   "source": [
    "## HAL Matrix"
   ]
  },
  {
   "cell_type": "markdown",
   "metadata": {},
   "source": [
    "#### Считываем весь документ"
   ]
  },
  {
   "cell_type": "code",
   "execution_count": 14,
   "metadata": {},
   "outputs": [
    {
     "name": "stdout",
     "output_type": "stream",
     "text": [
      "Построение HAL матриц\n"
     ]
    }
   ],
   "source": [
    "print(\"Построение HAL матриц\")\n",
    "with open('doc.txt', 'r') as file:\n",
    "         content = file.read().replace('\\n', ' ')"
   ]
  },
  {
   "cell_type": "markdown",
   "metadata": {},
   "source": [
    "#### Токенизируем и преобразуем в сет"
   ]
  },
  {
   "cell_type": "code",
   "execution_count": 15,
   "metadata": {},
   "outputs": [
    {
     "name": "stdout",
     "output_type": "stream",
     "text": [
      "Токенизируем весь текст\n"
     ]
    }
   ],
   "source": [
    "print(\"Токенизируем весь текст\")\n",
    "tokens = list(set(tokenize_ru(content)))"
   ]
  },
  {
   "cell_type": "markdown",
   "metadata": {},
   "source": [
    "#### Берём окно, продвигаем его по всему тексту и для всех встреченных пар слов высчитываем расстояние"
   ]
  },
  {
   "cell_type": "code",
   "execution_count": 16,
   "metadata": {},
   "outputs": [],
   "source": [
    "def hal_matrix(tokenized_text, all_tokens, frame_len=5):\n",
    "    m_size =  len(all_tokens)\n",
    "    hal = np.zeros([m_size, m_size])\n",
    "    for t in range(len(tokenized_text)-frame_len):\n",
    "        t_token = tokenized_text[t]\n",
    "        for f_off in range(1, frame_len):\n",
    "            off_token = tokenized_text[t+f_off]\n",
    "            r = all_tokens.index(t_token)\n",
    "            c = all_tokens.index(off_token)\n",
    "            hal[r, c] += frame_len - f_off\n",
    "#             hal[c, r] += frame_len - f_off\n",
    "                \n",
    "    return hal"
   ]
  },
  {
   "cell_type": "markdown",
   "metadata": {},
   "source": [
    "#### Строим 8 HAL матриц для каждой темы документа"
   ]
  },
  {
   "cell_type": "code",
   "execution_count": 17,
   "metadata": {
    "scrolled": true
   },
   "outputs": [
    {
     "name": "stdout",
     "output_type": "stream",
     "text": [
      "Построение HAL матрицы для главы 1\n",
      "Построение HAL матрицы для главы 2\n",
      "Построение HAL матрицы для главы 3\n",
      "Построение HAL матрицы для главы 4\n",
      "Построение HAL матрицы для главы 5\n",
      "Построение HAL матрицы для главы 6\n",
      "Построение HAL матрицы для главы 7\n",
      "Построение HAL матрицы для главы 8\n"
     ]
    }
   ],
   "source": [
    "texts_count = 8\n",
    "hal_matrices = dict()\n",
    "for i in range(texts_count):\n",
    "    print(f'Построение HAL матрицы для главы {i+1}')\n",
    "    with open(f'{i}.txt', 'r') as file:\n",
    "        content = file.read().replace('\\n', ' ')\n",
    "    tokenized_text = tokenize_ru(content)\n",
    "    hal_matrices[i] = hal_matrix(tokenized_text, tokens, 5)"
   ]
  },
  {
   "cell_type": "markdown",
   "metadata": {},
   "source": [
    "#### Выбираем топ 10 для каждого текста"
   ]
  },
  {
   "cell_type": "code",
   "execution_count": 18,
   "metadata": {},
   "outputs": [],
   "source": [
    "hal_matrices_copy = hal_matrices\n",
    "results = dict()\n",
    "for m_n in range(texts_count):\n",
    "    res = []\n",
    "    for i in range(10):\n",
    "        r, c = np.unravel_index(hal_matrices_copy[m_n].argmax(), hal_matrices_copy[m_n].shape)\n",
    "        res.append(tokens[r] + ' '+ tokens[c])\n",
    "        hal_matrices_copy[m_n][(r,c)] = -1\n",
    "    results[m_n] = res\n",
    "    \n",
    "    "
   ]
  },
  {
   "cell_type": "code",
   "execution_count": 19,
   "metadata": {
    "scrolled": true
   },
   "outputs": [
    {
     "name": "stdout",
     "output_type": "stream",
     "text": [
      "Топ 10 словосочетаний для каждой главы\n",
      "{0: ['ст л.', 'сливочный масло', 'ч. л.', 'сахарный пудра', 'растительный масло', 'л. соль', 'длить тест', 'духовка минуть', 'л. сахара', 'выпекать духовка'], 1: ['способ приготовление', 'столовый ложка', 'соль способ', 'растительный масло', 'сливочный масло', 'соль приготовление', 'мл растительный', 'вкус способ', 'мл масло', 'соль вкус'], 2: ['ст л.', 'сливочный масло', 'растительный масло', 'зелень петрушка', 'вымыть нарезать', 'разогреть °c', '°c духовка', 'разогреть духовка', 'перец соль', 'духовка минуть'], 3: ['способ приготовление', 'столовый ложка', 'соль способ', 'решётка пароварка', 'сливочный масло', 'соль приготовление', 'средний решётка', 'поставить средний', 'поставить решётка', 'средний пароварка'], 4: ['способ приготовление', 'соль способ', 'ст л.', 'перец способ', 'молотый перец', 'чёрный перец', 'соль приготовление', 'репчатый лука', 'ингредиент килограмм', 'соль перец'], 5: ['растительный масло', 'способ приготовление', 'соль способ', 'столовый ложка', 'болгарский перец', 'зелень петрушка', 'соль приготовление', 'перец соль', 'перец способ', 'мелко нарезать'], 6: ['способ приготовление', 'зелень петрушка', 'подать стол', 'зелень укроп', 'ломтик хлеб', 'вымыть нарезать', 'сливочный масло', 'укроп петрушка', 'столовый ложка', 'петрушка вымыть'], 7: ['молотый перец', 'растительный масло', 'зелень укроп', 'перец соль', 'репчатый лука', 'зелень петрушка', 'весь перемешать', 'мелко нарезать', 'мл растительный', 'народный медицина']}\n"
     ]
    }
   ],
   "source": [
    "print(\"Топ 10 словосочетаний для каждой главы\")\n",
    "print(results)"
   ]
  }
 ],
 "metadata": {
  "kernelspec": {
   "display_name": "Python 3",
   "language": "python",
   "name": "python3"
  },
  "language_info": {
   "codemirror_mode": {
    "name": "ipython",
    "version": 3
   },
   "file_extension": ".py",
   "mimetype": "text/x-python",
   "name": "python",
   "nbconvert_exporter": "python",
   "pygments_lexer": "ipython3",
   "version": "3.6.8"
  }
 },
 "nbformat": 4,
 "nbformat_minor": 2
}

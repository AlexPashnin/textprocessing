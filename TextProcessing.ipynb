{
 "cells": [
  {
   "cell_type": "code",
   "execution_count": 252,
   "metadata": {},
   "outputs": [],
   "source": [
    "import pymorphy2\n",
    "import string\n",
    "import nltk\n",
    "import numpy as np\n",
    "from stop_words import get_stop_words\n",
    "from sklearn.feature_extraction.text import TfidfVectorizer\n",
    "from nltk.stem.snowball import SnowballStemmer "
   ]
  },
  {
   "cell_type": "code",
   "execution_count": 178,
   "metadata": {},
   "outputs": [
    {
     "name": "stderr",
     "output_type": "stream",
     "text": [
      "[nltk_data] Downloading package punkt to /home/adpashnin/nltk_data...\n",
      "[nltk_data]   Package punkt is already up-to-date!\n",
      "[nltk_data] Downloading package stopwords to\n",
      "[nltk_data]     /home/adpashnin/nltk_data...\n",
      "[nltk_data]   Package stopwords is already up-to-date!\n"
     ]
    },
    {
     "data": {
      "text/plain": [
       "True"
      ]
     },
     "execution_count": 178,
     "metadata": {},
     "output_type": "execute_result"
    }
   ],
   "source": [
    "nltk.download('punkt')\n",
    "nltk.download('stopwords')"
   ]
  },
  {
   "cell_type": "code",
   "execution_count": 232,
   "metadata": {},
   "outputs": [],
   "source": [
    "with open('doc.txt', 'r') as file:\n",
    "    content = file.read().replace('\\n', ' ')"
   ]
  },
  {
   "cell_type": "code",
   "execution_count": 103,
   "metadata": {},
   "outputs": [],
   "source": [
    "with open('another_doc.txt', 'r') as file:\n",
    "    another_doc = file.read().replace('\\n', ' ')"
   ]
  },
  {
   "cell_type": "code",
   "execution_count": 244,
   "metadata": {},
   "outputs": [],
   "source": [
    "def tokenize_ru(file_text):\n",
    "    # firstly let's apply nltk tokenization\n",
    "    tokens = word_tokenize(file_text)\n",
    "\n",
    "    # let's delete punctuation symbols\n",
    "    tokens = [i for i in tokens if (i not in string.punctuation)]\n",
    "\n",
    "    # deleting stop_words\n",
    "    stop_words = stopwords.words('russian') + get_stop_words('ru')\n",
    "    stop_words.extend(['в', '', '•', '—', '–', 'к', 'на', '№', '©', '►', '...'])\n",
    "    tokens = [i for i in tokens if (i not in stop_words and len(i))]\n",
    "    # cleaning words\n",
    "    tokens = [i.replace(\"«\", \"\").replace(\"»\", \"\") for i in tokens]\n",
    "    \n",
    "    morph = pymorphy2.MorphAnalyzer()\n",
    "    #stems=[]\n",
    "    #for item in tokens:\n",
    "    #   stems.append(SnowballStemmer(\"russian\").stem(item))\n",
    "    morphs = []\n",
    "    for item in tokens:\n",
    "        morphs.append(sorted(morph.parse(item), key=lambda p: p.score)[0].normal_form)\n",
    "    \n",
    "    return morphs"
   ]
  },
  {
   "cell_type": "code",
   "execution_count": 251,
   "metadata": {},
   "outputs": [],
   "source": [
    "#def tf_idf(corpus):\n",
    "corpus = [content, another_doc]\n",
    "stop_words = stopwords.words('russian') + get_stop_words('ru')\n",
    "vectorizer = TfidfVectorizer(tokenizer = tokenize_ru)\n",
    "X = vectorizer.fit_transform(corpus)\n",
    "#return X"
   ]
  },
  {
   "cell_type": "code",
   "execution_count": 273,
   "metadata": {},
   "outputs": [
    {
     "name": "stdout",
     "output_type": "stream",
     "text": [
      "['масло' 'перец' 'нарезать' '1' 'зелень' 'соль' 'добавить' 'приготовление'\n",
      " 'минуть' '2']\n"
     ]
    }
   ],
   "source": [
    "features = np.array(vectorizer.get_feature_names())\n",
    "print(features[(-X.toarray()[0]).argsort()[:10]])"
   ]
  },
  {
   "cell_type": "code",
   "execution_count": 245,
   "metadata": {},
   "outputs": [],
   "source": [
    "tokens = tokenize_ru(content)"
   ]
  },
  {
   "cell_type": "code",
   "execution_count": 246,
   "metadata": {},
   "outputs": [],
   "source": [
    "freq_dist = nltk.FreqDist(w.lower() for w in tokens)"
   ]
  },
  {
   "cell_type": "code",
   "execution_count": 247,
   "metadata": {
    "scrolled": false
   },
   "outputs": [
    {
     "data": {
      "text/plain": [
       "[('масло', 5245),\n",
       " ('1', 5022),\n",
       " ('перец', 3662),\n",
       " ('соль', 3637),\n",
       " ('нарезать', 3599),\n",
       " ('2', 3165),\n",
       " ('зелень', 2904),\n",
       " ('добавить', 2566),\n",
       " ('приготовление', 2392),\n",
       " ('вымыть', 2362),\n",
       " ('л.', 2328),\n",
       " ('минуть', 2297),\n",
       " ('растительный', 2082),\n",
       " ('мука', 2064),\n",
       " ('способ', 2050),\n",
       " ('яйцо', 2046),\n",
       " ('петрушка', 2031),\n",
       " ('выложить', 2019),\n",
       " ('сливочный', 1955),\n",
       " ('мл', 1941),\n",
       " ('лука', 1923),\n",
       " ('очистить', 1902),\n",
       " ('вод', 1872),\n",
       " ('ст', 1828),\n",
       " ('ингредиент', 1799),\n",
       " ('100', 1792),\n",
       " ('ложка', 1748),\n",
       " ('длить', 1524),\n",
       " ('укроп', 1446),\n",
       " ('200', 1414),\n",
       " ('столовый', 1393),\n",
       " ('3', 1368),\n",
       " ('чеснок', 1292),\n",
       " ('перемешать', 1219),\n",
       " ('мясо', 1219),\n",
       " ('тесто', 1197),\n",
       " ('50', 1194),\n",
       " ('помидор', 1187),\n",
       " ('сахара', 1176),\n",
       " ('посолить', 1174),\n",
       " ('мелко', 1152),\n",
       " ('духовка', 1113),\n",
       " ('посыпать', 1100),\n",
       " ('', 1091),\n",
       " ('баклажан', 1077),\n",
       " ('стол', 1058),\n",
       " ('в', 1056),\n",
       " ('лист', 1052),\n",
       " ('смазать', 1046),\n",
       " ('сахар', 1043),\n",
       " ('положить', 1014),\n",
       " ('поставить', 1013),\n",
       " ('молотый', 986),\n",
       " ('готовый', 979),\n",
       " ('соус', 977),\n",
       " ('течение', 944),\n",
       " ('разогреть', 924),\n",
       " ('20', 916),\n",
       " ('сок', 907),\n",
       " ('10', 904),\n",
       " ('5', 883),\n",
       " ('килограмм', 876),\n",
       " ('смешать', 870),\n",
       " ('сметана', 855),\n",
       " ('ломтик', 839),\n",
       " ('тест', 838),\n",
       " ('обжарить', 831),\n",
       " ('смесь', 829),\n",
       " ('измельчить', 829),\n",
       " ('ч.', 801),\n",
       " ('начинка', 797),\n",
       " ('морковь', 789),\n",
       " ('луковица', 783),\n",
       " ('промыть', 773),\n",
       " ('блюдо', 769),\n",
       " ('залить', 762),\n",
       " ('½', 750),\n",
       " ('°c', 745),\n",
       " ('затем', 742),\n",
       " ('4', 733),\n",
       " ('взбить', 728),\n",
       " ('стакан', 725),\n",
       " ('500', 706),\n",
       " ('дрожжи', 692),\n",
       " ('300', 671),\n",
       " ('поперчить', 671),\n",
       " ('чёрный', 662),\n",
       " ('30', 654),\n",
       " ('уксус', 649),\n",
       " ('приготовить', 643),\n",
       " ('подать', 643),\n",
       " ('лимонный', 633),\n",
       " ('небольшой', 621),\n",
       " ('пучок', 615),\n",
       " ('молока', 614),\n",
       " ('картофель', 611),\n",
       " ('150', 606),\n",
       " ('хлеб', 602),\n",
       " ('натереть', 591),\n",
       " ('нарубить', 589),\n",
       " ('огонь', 588),\n",
       " ('семя', 581),\n",
       " ('место', 579),\n",
       " ('форма', 576),\n",
       " ('зелёный', 573),\n",
       " ('тонкий', 569),\n",
       " ('кусочек', 568),\n",
       " ('болгарский', 566),\n",
       " ('овощ', 563),\n",
       " ('майонез', 563),\n",
       " ('кусок', 563),\n",
       " ('филе', 553),\n",
       " ('влить', 553),\n",
       " ('красный', 535),\n",
       " ('масса', 532),\n",
       " ('получить', 531),\n",
       " ('орех', 530),\n",
       " ('противень', 530),\n",
       " ('оставить', 530),\n",
       " ('капуста', 522),\n",
       " ('украсить', 516),\n",
       " ('сырой', 513),\n",
       " ('сыр', 511),\n",
       " ('ёмкость', 508),\n",
       " ('яблоко', 507),\n",
       " ('пшеничный', 506),\n",
       " ('кабачок', 505),\n",
       " ('сверху', 502),\n",
       " ('бульон', 498),\n",
       " ('репчатый', 487),\n",
       " ('готовность', 480),\n",
       " ('гриб', 472),\n",
       " ('слить', 465),\n",
       " ('томатный', 465),\n",
       " ('рис', 463),\n",
       " ('кружочек', 463),\n",
       " ('кубик', 461),\n",
       " ('час', 460),\n",
       " ('рыба', 458),\n",
       " ('сливка', 456),\n",
       " ('литр', 450),\n",
       " ('вкус', 449),\n",
       " ('соединить', 443),\n",
       " ('400', 442),\n",
       " ('фарш', 436),\n",
       " ('15', 434),\n",
       " ('выпекать', 434),\n",
       " ('остаться', 424),\n",
       " ('сковорода', 424),\n",
       " ('зубчик', 423),\n",
       " ('тёртый', 418),\n",
       " ('крышка', 416),\n",
       " ('удалить', 414),\n",
       " ('салат', 413),\n",
       " ('тщательный', 411),\n",
       " ('тёрка', 406),\n",
       " ('охладить', 401),\n",
       " ('веточка', 401),\n",
       " ('температура', 399),\n",
       " ('накрыть', 399),\n",
       " ('тушить', 399),\n",
       " ('крупный', 396),\n",
       " ('2–3', 395),\n",
       " ('лук', 393),\n",
       " ('раскатать', 393),\n",
       " ('разрезать', 390),\n",
       " ('варить', 389),\n",
       " ('крем', 384),\n",
       " ('сантиметр', 381),\n",
       " ('полить', 380),\n",
       " ('маринад', 372),\n",
       " ('вода', 366),\n",
       " ('средний', 363),\n",
       " ('сахарный', 361),\n",
       " ('мелкий', 359),\n",
       " ('использовать', 358),\n",
       " ('огурец', 356),\n",
       " ('слой', 351),\n",
       " ('чайный', 349),\n",
       " ('корень', 347),\n",
       " ('пицца', 341),\n",
       " ('переть', 338),\n",
       " ('маргарин', 338),\n",
       " ('желток', 337),\n",
       " ('банка', 335),\n",
       " ('тушка', 334),\n",
       " ('250', 326),\n",
       " ('предварительный', 322),\n",
       " ('обсушить', 321),\n",
       " ('вино', 321),\n",
       " ('пудра', 318),\n",
       " ('сухой', 316),\n",
       " ('весь', 314),\n",
       " ('растереть', 313),\n",
       " ('молоко', 313),\n",
       " ('лавровый', 313),\n",
       " ('уложить', 312),\n",
       " ('мякоть', 310),\n",
       " ('белый', 308),\n",
       " ('подготовить', 308)]"
      ]
     },
     "execution_count": 247,
     "metadata": {},
     "output_type": "execute_result"
    }
   ],
   "source": [
    "freq_dist.most_common(200)"
   ]
  }
 ],
 "metadata": {
  "kernelspec": {
   "display_name": "Python 3",
   "language": "python",
   "name": "python3"
  },
  "language_info": {
   "codemirror_mode": {
    "name": "ipython",
    "version": 3
   },
   "file_extension": ".py",
   "mimetype": "text/x-python",
   "name": "python",
   "nbconvert_exporter": "python",
   "pygments_lexer": "ipython3",
   "version": "3.6.8"
  }
 },
 "nbformat": 4,
 "nbformat_minor": 2
}
